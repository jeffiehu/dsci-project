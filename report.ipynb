{
 "cells": [
  {
   "cell_type": "code",
   "execution_count": null,
   "id": "39db7606-4ee1-474f-a4e1-62b2c4d97954",
   "metadata": {},
   "outputs": [],
   "source": [
    "# GROUP PROJECT REPORT\n",
    "Group 22 - Jeffery Hu, Ben Lu, Gurjas Singh Chawla, Feiran Hu"
   ]
  }
 ],
 "metadata": {
  "kernelspec": {
   "display_name": "R",
   "language": "R",
   "name": "ir"
  },
  "language_info": {
   "codemirror_mode": "r",
   "file_extension": ".r",
   "mimetype": "text/x-r-source",
   "name": "R",
   "pygments_lexer": "r",
   "version": "4.3.1"
  }
 },
 "nbformat": 4,
 "nbformat_minor": 5
}
