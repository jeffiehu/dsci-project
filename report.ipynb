{
 "cells": [
  {
   "cell_type": "markdown",
   "id": "126e9774-e174-4f37-9523-f16d845e8bae",
   "metadata": {},
   "source": [
    "# GROUP PROJECT REPORT\n",
    "Group 22 - Jeffery Hu, Ben Lu, Gurjas Singh Chawla, Feiran Hu\n",
    "\n",
    "### Table of Contents\n",
    "1. [Introduction](#i)\n",
    "2. [Methods & Results](#mr)\n",
    "   - [Loading Data](#loading-data)\n",
    "   - [Wrangling, Tidying, and Cleaning Data](#wtcd)\n",
    "   - [Exploratory Data Analysis Summary](#edas)\n",
    "   - [Exploratory Data Analysis Visualization](#edav)\n",
    "   - [Data Analysis](#da)\n",
    "   - [Data Visualization](#dv)\n",
    "4. [Discussion](#d)\n",
    "5. [References](#r)"
   ]
  },
  {
   "cell_type": "markdown",
   "id": "68de5def-7715-47d9-91bd-5ec869c3f26a",
   "metadata": {},
   "source": [
    "## Introduction <a name=\"i\"/>\n",
    "In data science, classification is the process where a set of observation is categorized into groups. K-nearest neighbour (KNN) is a form of classification where these observations in a data set are grouped based on their similarity with their neighbours. This report will demonstrate data wrangling, summarization, and visualization before performing KNN classification on a training dataset, then verifying our results via comparing with a testing dataset as well as a thorough data analysis along with a post analysis discussion.\n",
    "\n",
    "In sports, left-handed players tend to perform better than their right-handed opponents - many hypothesize that this could be due to the rarity of left-handed players which leads to right-handed players' lack of experience playing against lefties, or that left-handed people are simply more coordinated and athletically inclined. An example of such study conducted on a broad range of sports can be found [here](https://web.p.ebscohost.com/ehost/pdfviewer/pdfviewer?vid=0&sid=c75a114d-74c5-4457-9772-81880b8b39ea%40redis), or adjacently relevant, [this study](https://web.archive.org/web/20090324225537/http://www.ucd.ie/geary/publications/2004/laterality.pdf) on how left-handed people earn more wage. As such, we believe it would be interesting to see if there would be any correlation between a tennis player’s handedness and their other attributes, or more formally: \n",
    "\n",
    "Is there a relationship between the handedness of a tennis player with their peak rank, current rank, height, age, and their backhand grip - i.e. can we derive the former by looking at their other attributes?\n",
    "\n",
    "To answer our questions we will be using the Player Stats for Top 500 Players found [here](https://www.ultimatetennisstatistics.com/)."
   ]
  },
  {
   "cell_type": "markdown",
   "id": "8d3df820-fcac-4d9a-87c8-1cb928f00230",
   "metadata": {},
   "source": [
    "## Methods & Results <a name=\"mr\"/>"
   ]
  },
  {
   "cell_type": "code",
   "execution_count": 10,
   "id": "1a401117-2f5a-42e9-b2da-d85a89a89a45",
   "metadata": {},
   "outputs": [],
   "source": [
    "library(tidyverse)\n",
    "library(repr)\n",
    "library(tidymodels)\n",
    "library(RColorBrewer)\n",
    "options(repr.plot.width = 12)\n",
    "options(repr.matrix.max.rows = 4)"
   ]
  },
  {
   "cell_type": "markdown",
   "id": "2812b918-25e4-473e-926d-d1a3aa405c9e",
   "metadata": {},
   "source": [
    "### Loading Data <a name=\"loading-data\" />\n",
    "The first step to our data analysis is to load our data. As mentioned above, our data is found on the [Ultimate Tennis Statistics](https://www.ultimatetennisstatistics.com/) site and can be downloaded via [this Google Drive Link](https://drive.google.com/uc?export=download&id=1_MECmUXZuuILYeEOfonSGqodW6qVdhsS) as seen in the code cell below."
   ]
  },
  {
   "cell_type": "code",
   "execution_count": 14,
   "id": "cc9b4420-0090-4f5a-823f-120beda03f71",
   "metadata": {},
   "outputs": [
    {
     "name": "stderr",
     "output_type": "stream",
     "text": [
      "\u001b[1m\u001b[22mNew names:\n",
      "\u001b[36m•\u001b[39m `` -> `...1`\n",
      "\u001b[1mRows: \u001b[22m\u001b[34m500\u001b[39m \u001b[1mColumns: \u001b[22m\u001b[34m38\u001b[39m\n",
      "\u001b[36m──\u001b[39m \u001b[1mColumn specification\u001b[22m \u001b[36m────────────────────────────────────────────────────────\u001b[39m\n",
      "\u001b[1mDelimiter:\u001b[22m \",\"\n",
      "\u001b[31mchr\u001b[39m (25): Age, Country, Plays, Wikipedia, Current Rank, Best Rank, Name, Bac...\n",
      "\u001b[32mdbl\u001b[39m (13): ...1, Turned Pro, Seasons, Titles, Best Season, Retired, Masters, ...\n",
      "\n",
      "\u001b[36mℹ\u001b[39m Use `spec()` to retrieve the full column specification for this data.\n",
      "\u001b[36mℹ\u001b[39m Specify the column types or set `show_col_types = FALSE` to quiet this message.\n"
     ]
    },
    {
     "data": {
      "text/html": [
       "<table class=\"dataframe\">\n",
       "<caption>A spec_tbl_df: 500 × 38</caption>\n",
       "<thead>\n",
       "\t<tr><th scope=col>...1</th><th scope=col>Age</th><th scope=col>Country</th><th scope=col>Plays</th><th scope=col>Wikipedia</th><th scope=col>Current Rank</th><th scope=col>Best Rank</th><th scope=col>Name</th><th scope=col>Backhand</th><th scope=col>Prize Money</th><th scope=col>⋯</th><th scope=col>Facebook</th><th scope=col>Twitter</th><th scope=col>Nicknames</th><th scope=col>Grand Slams</th><th scope=col>Davis Cups</th><th scope=col>Web Site</th><th scope=col>Team Cups</th><th scope=col>Olympics</th><th scope=col>Weeks at No. 1</th><th scope=col>Tour Finals</th></tr>\n",
       "\t<tr><th scope=col>&lt;dbl&gt;</th><th scope=col>&lt;chr&gt;</th><th scope=col>&lt;chr&gt;</th><th scope=col>&lt;chr&gt;</th><th scope=col>&lt;chr&gt;</th><th scope=col>&lt;chr&gt;</th><th scope=col>&lt;chr&gt;</th><th scope=col>&lt;chr&gt;</th><th scope=col>&lt;chr&gt;</th><th scope=col>&lt;chr&gt;</th><th scope=col>⋯</th><th scope=col>&lt;chr&gt;</th><th scope=col>&lt;chr&gt;</th><th scope=col>&lt;chr&gt;</th><th scope=col>&lt;dbl&gt;</th><th scope=col>&lt;dbl&gt;</th><th scope=col>&lt;chr&gt;</th><th scope=col>&lt;dbl&gt;</th><th scope=col>&lt;dbl&gt;</th><th scope=col>&lt;dbl&gt;</th><th scope=col>&lt;dbl&gt;</th></tr>\n",
       "</thead>\n",
       "<tbody>\n",
       "\t<tr><td>0</td><td>26 (25-04-1993)</td><td>Brazil        </td><td>Right-handed</td><td>Wikipedia</td><td>378 (97) </td><td>363 (04-11-2019)</td><td>Oscar Jose Gutierrez</td><td>NA        </td><td>NA     </td><td>⋯</td><td>NA</td><td>NA</td><td>NA</td><td>NA</td><td>NA</td><td>NA</td><td>NA</td><td>NA</td><td>NA</td><td>NA</td></tr>\n",
       "\t<tr><td>1</td><td>18 (22-12-2001)</td><td>United Kingdom</td><td>Left-handed </td><td>Wikipedia</td><td>326 (119)</td><td>316 (14-10-2019)</td><td>Jack Draper         </td><td>Two-handed</td><td>$59,040</td><td>⋯</td><td>NA</td><td>NA</td><td>NA</td><td>NA</td><td>NA</td><td>NA</td><td>NA</td><td>NA</td><td>NA</td><td>NA</td></tr>\n",
       "\t<tr><td>⋮</td><td>⋮</td><td>⋮</td><td>⋮</td><td>⋮</td><td>⋮</td><td>⋮</td><td>⋮</td><td>⋮</td><td>⋮</td><td>⋱</td><td>⋮</td><td>⋮</td><td>⋮</td><td>⋮</td><td>⋮</td><td>⋮</td><td>⋮</td><td>⋮</td><td>⋮</td><td>⋮</td></tr>\n",
       "\t<tr><td>498</td><td>24 (17-05-1995)</td><td>Ukraine</td><td>NA         </td><td>Wikipedia</td><td>419 (81)</td><td>419 (20-01-2020)</td><td>Vladyslav Orlov</td><td>NA        </td><td>NA     </td><td>⋯</td><td>NA</td><td>NA</td><td>NA</td><td>NA</td><td>NA</td><td>NA</td><td>NA</td><td>NA</td><td>NA</td><td>NA</td></tr>\n",
       "\t<tr><td>499</td><td>22 (26-03-1997)</td><td>Tunisia</td><td>Left-handed</td><td>Wikipedia</td><td>451 (69)</td><td>408 (24-12-2018)</td><td>Aziz Dougaz    </td><td>Two-handed</td><td>$61,984</td><td>⋯</td><td>NA</td><td>NA</td><td>NA</td><td>NA</td><td>NA</td><td>NA</td><td>NA</td><td>NA</td><td>NA</td><td>NA</td></tr>\n",
       "</tbody>\n",
       "</table>\n"
      ],
      "text/latex": [
       "A spec\\_tbl\\_df: 500 × 38\n",
       "\\begin{tabular}{lllllllllllllllllllll}\n",
       " ...1 & Age & Country & Plays & Wikipedia & Current Rank & Best Rank & Name & Backhand & Prize Money & ⋯ & Facebook & Twitter & Nicknames & Grand Slams & Davis Cups & Web Site & Team Cups & Olympics & Weeks at No. 1 & Tour Finals\\\\\n",
       " <dbl> & <chr> & <chr> & <chr> & <chr> & <chr> & <chr> & <chr> & <chr> & <chr> & ⋯ & <chr> & <chr> & <chr> & <dbl> & <dbl> & <chr> & <dbl> & <dbl> & <dbl> & <dbl>\\\\\n",
       "\\hline\n",
       "\t 0 & 26 (25-04-1993) & Brazil         & Right-handed & Wikipedia & 378 (97)  & 363 (04-11-2019) & Oscar Jose Gutierrez & NA         & NA      & ⋯ & NA & NA & NA & NA & NA & NA & NA & NA & NA & NA\\\\\n",
       "\t 1 & 18 (22-12-2001) & United Kingdom & Left-handed  & Wikipedia & 326 (119) & 316 (14-10-2019) & Jack Draper          & Two-handed & \\$59,040 & ⋯ & NA & NA & NA & NA & NA & NA & NA & NA & NA & NA\\\\\n",
       "\t ⋮ & ⋮ & ⋮ & ⋮ & ⋮ & ⋮ & ⋮ & ⋮ & ⋮ & ⋮ & ⋱ & ⋮ & ⋮ & ⋮ & ⋮ & ⋮ & ⋮ & ⋮ & ⋮ & ⋮ & ⋮\\\\\n",
       "\t 498 & 24 (17-05-1995) & Ukraine & NA          & Wikipedia & 419 (81) & 419 (20-01-2020) & Vladyslav Orlov & NA         & NA      & ⋯ & NA & NA & NA & NA & NA & NA & NA & NA & NA & NA\\\\\n",
       "\t 499 & 22 (26-03-1997) & Tunisia & Left-handed & Wikipedia & 451 (69) & 408 (24-12-2018) & Aziz Dougaz     & Two-handed & \\$61,984 & ⋯ & NA & NA & NA & NA & NA & NA & NA & NA & NA & NA\\\\\n",
       "\\end{tabular}\n"
      ],
      "text/markdown": [
       "\n",
       "A spec_tbl_df: 500 × 38\n",
       "\n",
       "| ...1 &lt;dbl&gt; | Age &lt;chr&gt; | Country &lt;chr&gt; | Plays &lt;chr&gt; | Wikipedia &lt;chr&gt; | Current Rank &lt;chr&gt; | Best Rank &lt;chr&gt; | Name &lt;chr&gt; | Backhand &lt;chr&gt; | Prize Money &lt;chr&gt; | ⋯ ⋯ | Facebook &lt;chr&gt; | Twitter &lt;chr&gt; | Nicknames &lt;chr&gt; | Grand Slams &lt;dbl&gt; | Davis Cups &lt;dbl&gt; | Web Site &lt;chr&gt; | Team Cups &lt;dbl&gt; | Olympics &lt;dbl&gt; | Weeks at No. 1 &lt;dbl&gt; | Tour Finals &lt;dbl&gt; |\n",
       "|---|---|---|---|---|---|---|---|---|---|---|---|---|---|---|---|---|---|---|---|---|\n",
       "| 0 | 26 (25-04-1993) | Brazil         | Right-handed | Wikipedia | 378 (97)  | 363 (04-11-2019) | Oscar Jose Gutierrez | NA         | NA      | ⋯ | NA | NA | NA | NA | NA | NA | NA | NA | NA | NA |\n",
       "| 1 | 18 (22-12-2001) | United Kingdom | Left-handed  | Wikipedia | 326 (119) | 316 (14-10-2019) | Jack Draper          | Two-handed | $59,040 | ⋯ | NA | NA | NA | NA | NA | NA | NA | NA | NA | NA |\n",
       "| ⋮ | ⋮ | ⋮ | ⋮ | ⋮ | ⋮ | ⋮ | ⋮ | ⋮ | ⋮ | ⋱ | ⋮ | ⋮ | ⋮ | ⋮ | ⋮ | ⋮ | ⋮ | ⋮ | ⋮ | ⋮ |\n",
       "| 498 | 24 (17-05-1995) | Ukraine | NA          | Wikipedia | 419 (81) | 419 (20-01-2020) | Vladyslav Orlov | NA         | NA      | ⋯ | NA | NA | NA | NA | NA | NA | NA | NA | NA | NA |\n",
       "| 499 | 22 (26-03-1997) | Tunisia | Left-handed | Wikipedia | 451 (69) | 408 (24-12-2018) | Aziz Dougaz     | Two-handed | $61,984 | ⋯ | NA | NA | NA | NA | NA | NA | NA | NA | NA | NA |\n",
       "\n"
      ],
      "text/plain": [
       "    ...1 Age             Country        Plays        Wikipedia Current Rank\n",
       "1   0    26 (25-04-1993) Brazil         Right-handed Wikipedia 378 (97)    \n",
       "2   1    18 (22-12-2001) United Kingdom Left-handed  Wikipedia 326 (119)   \n",
       "⋮   ⋮    ⋮               ⋮              ⋮            ⋮         ⋮           \n",
       "499 498  24 (17-05-1995) Ukraine        NA           Wikipedia 419 (81)    \n",
       "500 499  22 (26-03-1997) Tunisia        Left-handed  Wikipedia 451 (69)    \n",
       "    Best Rank        Name                 Backhand   Prize Money ⋯ Facebook\n",
       "1   363 (04-11-2019) Oscar Jose Gutierrez NA         NA          ⋯ NA      \n",
       "2   316 (14-10-2019) Jack Draper          Two-handed $59,040     ⋯ NA      \n",
       "⋮   ⋮                ⋮                    ⋮          ⋮           ⋱ ⋮       \n",
       "499 419 (20-01-2020) Vladyslav Orlov      NA         NA          ⋯ NA      \n",
       "500 408 (24-12-2018) Aziz Dougaz          Two-handed $61,984     ⋯ NA      \n",
       "    Twitter Nicknames Grand Slams Davis Cups Web Site Team Cups Olympics\n",
       "1   NA      NA        NA          NA         NA       NA        NA      \n",
       "2   NA      NA        NA          NA         NA       NA        NA      \n",
       "⋮   ⋮       ⋮         ⋮           ⋮          ⋮        ⋮         ⋮       \n",
       "499 NA      NA        NA          NA         NA       NA        NA      \n",
       "500 NA      NA        NA          NA         NA       NA        NA      \n",
       "    Weeks at No. 1 Tour Finals\n",
       "1   NA             NA         \n",
       "2   NA             NA         \n",
       "⋮   ⋮              ⋮          \n",
       "499 NA             NA         \n",
       "500 NA             NA         "
      ]
     },
     "metadata": {},
     "output_type": "display_data"
    }
   ],
   "source": [
    "# tennis player data acquried from https://www.ultimatetennisstatistics.com/\n",
    "url = \"https://drive.google.com/uc?export=download&id=1_MECmUXZuuILYeEOfonSGqodW6qVdhsS\"\n",
    "download.file(url, \"player_data.csv\")\n",
    "\n",
    "# player data with only the columns we want\n",
    "player_data_raw <- read_csv(\"player_data.csv\")\n",
    "player_data_raw"
   ]
  },
  {
   "cell_type": "markdown",
   "id": "5ceb848a-9a4e-4030-b062-cb0e88e9b8f4",
   "metadata": {},
   "source": [
    "### Wrangling, Tidying, and Cleaning Data <a name=\"wtcd\" />\n",
    "Wrangling, tidying, and cleaning data are all steps that are taken to ensure our data analysis can be performed smoothly and that the end result make sense. Below the raw player data is stripped of fields that we deem useless (such as the country a player is fromt as well as their various social media platforms) to our data analysis. Then the data with the remaining fields are formatted so that we can perform numeric summaries on them (i.e. turn the field age which contains the birthday and birthdays of a player, which is untidy, into a tidy variable with just the age of the player). Finally, we split the data into a training as well as a testing dataset, with the former being the observations used to create our model and the latter used to verify the validity of our model."
   ]
  },
  {
   "cell_type": "code",
   "execution_count": 18,
   "id": "d8af6946-49e9-4306-b738-cce0e82101e5",
   "metadata": {},
   "outputs": [
    {
     "data": {
      "text/html": [
       "<table class=\"dataframe\">\n",
       "<caption>A tibble: 374 × 6</caption>\n",
       "<thead>\n",
       "\t<tr><th scope=col>age</th><th scope=col>handedness</th><th scope=col>curr_rank</th><th scope=col>best_rank</th><th scope=col>backhand_grip</th><th scope=col>height</th></tr>\n",
       "\t<tr><th scope=col>&lt;dbl&gt;</th><th scope=col>&lt;fct&gt;</th><th scope=col>&lt;dbl&gt;</th><th scope=col>&lt;dbl&gt;</th><th scope=col>&lt;fct&gt;</th><th scope=col>&lt;dbl&gt;</th></tr>\n",
       "</thead>\n",
       "<tbody>\n",
       "\t<tr><td>18</td><td>Left-handed</td><td>326</td><td>316</td><td>Two-handed</td><td>NA</td></tr>\n",
       "\t<tr><td>23</td><td>Left-handed</td><td>431</td><td>319</td><td>Two-handed</td><td>NA</td></tr>\n",
       "\t<tr><td>⋮</td><td>⋮</td><td>⋮</td><td>⋮</td><td>⋮</td><td>⋮</td></tr>\n",
       "\t<tr><td>20</td><td>Right-handed</td><td>382</td><td>380</td><td>Two-handed</td><td> NA</td></tr>\n",
       "\t<tr><td>26</td><td>Right-handed</td><td>  5</td><td>  4</td><td>One-handed</td><td>185</td></tr>\n",
       "</tbody>\n",
       "</table>\n"
      ],
      "text/latex": [
       "A tibble: 374 × 6\n",
       "\\begin{tabular}{llllll}\n",
       " age & handedness & curr\\_rank & best\\_rank & backhand\\_grip & height\\\\\n",
       " <dbl> & <fct> & <dbl> & <dbl> & <fct> & <dbl>\\\\\n",
       "\\hline\n",
       "\t 18 & Left-handed & 326 & 316 & Two-handed & NA\\\\\n",
       "\t 23 & Left-handed & 431 & 319 & Two-handed & NA\\\\\n",
       "\t ⋮ & ⋮ & ⋮ & ⋮ & ⋮ & ⋮\\\\\n",
       "\t 20 & Right-handed & 382 & 380 & Two-handed &  NA\\\\\n",
       "\t 26 & Right-handed &   5 &   4 & One-handed & 185\\\\\n",
       "\\end{tabular}\n"
      ],
      "text/markdown": [
       "\n",
       "A tibble: 374 × 6\n",
       "\n",
       "| age &lt;dbl&gt; | handedness &lt;fct&gt; | curr_rank &lt;dbl&gt; | best_rank &lt;dbl&gt; | backhand_grip &lt;fct&gt; | height &lt;dbl&gt; |\n",
       "|---|---|---|---|---|---|\n",
       "| 18 | Left-handed | 326 | 316 | Two-handed | NA |\n",
       "| 23 | Left-handed | 431 | 319 | Two-handed | NA |\n",
       "| ⋮ | ⋮ | ⋮ | ⋮ | ⋮ | ⋮ |\n",
       "| 20 | Right-handed | 382 | 380 | Two-handed |  NA |\n",
       "| 26 | Right-handed |   5 |   4 | One-handed | 185 |\n",
       "\n"
      ],
      "text/plain": [
       "    age handedness   curr_rank best_rank backhand_grip height\n",
       "1   18  Left-handed  326       316       Two-handed    NA    \n",
       "2   23  Left-handed  431       319       Two-handed    NA    \n",
       "⋮   ⋮   ⋮            ⋮         ⋮         ⋮             ⋮     \n",
       "373 20  Right-handed 382       380       Two-handed     NA   \n",
       "374 26  Right-handed   5         4       One-handed    185   "
      ]
     },
     "metadata": {},
     "output_type": "display_data"
    }
   ],
   "source": [
    "# set seed for reproducibility\n",
    "set.seed(1234)\n",
    "\n",
    "player_data <- player_data_raw |> select(Age, Plays, `Current Rank`, `Best Rank`, Backhand, Height)\n",
    "colnames(player_data) <- c(\"age\", \"handedness\", \"curr_rank\", \"best_rank\", \"backhand_grip\", \"height\") \n",
    "\n",
    "# player data formatted - char fields converted to numerical and categorical fields converted to factors\n",
    "#                       - removes the necessary parts of each variable like the birthdays after each players' age,\n",
    "#                         which is a cell that contains more than one value hence untidy\n",
    "player_data_formatted <- player_data |>\n",
    "    mutate(age = as.numeric(sapply(strsplit(age,\" \"), getElement, 1)), \n",
    "           curr_rank = as.numeric(sapply(strsplit(curr_rank,\" \"), getElement, 1)), \n",
    "           best_rank = as.numeric(sapply(strsplit(best_rank,\" \"), getElement, 1)),\n",
    "           height = as.numeric(sapply(strsplit(height,\" \"), getElement, 1)),\n",
    "           backhand_grip = as_factor(backhand_grip),\n",
    "           handedness = as_factor(handedness)\n",
    "          )\n",
    "\n",
    "# splitting data into training and testing sets\n",
    "players_split <- initial_split(player_data_formatted, prop = 3/4, strata = handedness)\n",
    "players_train <- training(players_split)\n",
    "players_test <- testing(players_split)\n",
    "\n",
    "players_train"
   ]
  },
  {
   "cell_type": "markdown",
   "id": "2f33238c-aa18-4337-ba51-89254641f8a6",
   "metadata": {},
   "source": [
    "### Exploratory Data Analysis Summary <a name=\"edas\"/>\n",
    "This step of the process involes performing a preliminary and exploratory analysis on the data that will allow us to perform the actual analysis further down the line.\n",
    "\n",
    "Some crucial point we have to address before performing classification that can be answered with this summary includes:\n",
    "- **Q:** Do all of our observations have non-null handedness? **A:** No, since we cannot verify our accuracy if the actual handedness of a player is not known hence we will discard the 35 observations with no handedness variables\n",
    "- **Q:** Which of the currently selected predictors should be removed from the classification process due to their being missing data? **A:** It seems that the majority of players are missing their height data so it wouldn't make sense to still include that variable, however, the variables with only a few missing or missing a relatively small portion compared to the total amount of players (such as the age, current rank, best rank, and backhand grip) can be kept.\n",
    "- **Q** Is there imbalance in the data? **A:** Yes, there is a clear disproportional distribution of right and left handed players, which reflects real-life where only roughly 10% of people are left-handed [(source)](https://medlineplus.gov/genetics/understanding/traits/handedness/).\n"
   ]
  },
  {
   "cell_type": "code",
   "execution_count": 17,
   "id": "313464cc-b863-483c-bcbc-c682d31718f4",
   "metadata": {},
   "outputs": [
    {
     "data": {
      "text/html": [
       "<table class=\"dataframe\">\n",
       "<caption>A tibble: 2 × 2</caption>\n",
       "<thead>\n",
       "\t<tr><th scope=col>handedness</th><th scope=col>count</th></tr>\n",
       "\t<tr><th scope=col>&lt;fct&gt;</th><th scope=col>&lt;int&gt;</th></tr>\n",
       "</thead>\n",
       "<tbody>\n",
       "\t<tr><td>Right-handed</td><td>292</td></tr>\n",
       "\t<tr><td>Left-handed </td><td> 48</td></tr>\n",
       "</tbody>\n",
       "</table>\n"
      ],
      "text/latex": [
       "A tibble: 2 × 2\n",
       "\\begin{tabular}{ll}\n",
       " handedness & count\\\\\n",
       " <fct> & <int>\\\\\n",
       "\\hline\n",
       "\t Right-handed & 292\\\\\n",
       "\t Left-handed  &  48\\\\\n",
       "\\end{tabular}\n"
      ],
      "text/markdown": [
       "\n",
       "A tibble: 2 × 2\n",
       "\n",
       "| handedness &lt;fct&gt; | count &lt;int&gt; |\n",
       "|---|---|\n",
       "| Right-handed | 292 |\n",
       "| Left-handed  |  48 |\n",
       "\n"
      ],
      "text/plain": [
       "  handedness   count\n",
       "1 Right-handed 292  \n",
       "2 Left-handed   48  "
      ]
     },
     "metadata": {},
     "output_type": "display_data"
    },
    {
     "data": {
      "text/html": [
       "<table class=\"dataframe\">\n",
       "<caption>A tibble: 1 × 6</caption>\n",
       "<thead>\n",
       "\t<tr><th scope=col>age</th><th scope=col>handedness</th><th scope=col>curr_rank</th><th scope=col>best_rank</th><th scope=col>backhand_grip</th><th scope=col>height</th></tr>\n",
       "\t<tr><th scope=col>&lt;int&gt;</th><th scope=col>&lt;int&gt;</th><th scope=col>&lt;int&gt;</th><th scope=col>&lt;int&gt;</th><th scope=col>&lt;int&gt;</th><th scope=col>&lt;int&gt;</th></tr>\n",
       "</thead>\n",
       "<tbody>\n",
       "\t<tr><td>1</td><td>35</td><td>2</td><td>1</td><td>68</td><td>287</td></tr>\n",
       "</tbody>\n",
       "</table>\n"
      ],
      "text/latex": [
       "A tibble: 1 × 6\n",
       "\\begin{tabular}{llllll}\n",
       " age & handedness & curr\\_rank & best\\_rank & backhand\\_grip & height\\\\\n",
       " <int> & <int> & <int> & <int> & <int> & <int>\\\\\n",
       "\\hline\n",
       "\t 1 & 35 & 2 & 1 & 68 & 287\\\\\n",
       "\\end{tabular}\n"
      ],
      "text/markdown": [
       "\n",
       "A tibble: 1 × 6\n",
       "\n",
       "| age &lt;int&gt; | handedness &lt;int&gt; | curr_rank &lt;int&gt; | best_rank &lt;int&gt; | backhand_grip &lt;int&gt; | height &lt;int&gt; |\n",
       "|---|---|---|---|---|---|\n",
       "| 1 | 35 | 2 | 1 | 68 | 287 |\n",
       "\n"
      ],
      "text/plain": [
       "  age handedness curr_rank best_rank backhand_grip height\n",
       "1 1   35         2         1         68            287   "
      ]
     },
     "metadata": {},
     "output_type": "display_data"
    }
   ],
   "source": [
    "# this summarization table allows us to see the distribution of handedness among players\n",
    "handedness_distribution <- players_train |>\n",
    "    filter(!is.na(handedness)) |>\n",
    "    group_by(handedness) |>\n",
    "    summarize(count = n())\n",
    "\n",
    "# this summarization table allows us to see how many variables we are missing for each of the predictors \n",
    "# as well as the handedness of the players, this gives us an idea of which variable we should put \n",
    "# more emphasis on (rank & age) and which to potentially discard (height)\n",
    "missing_variables <- players_train |>\n",
    "    summarize(across(everything(), ~ sum(is.na(.))))\n",
    "\n",
    "handedness_distribution\n",
    "missing_variables"
   ]
  },
  {
   "cell_type": "markdown",
   "id": "ee7a8aa5-b59d-4afc-8c0c-e56eb74b373a",
   "metadata": {},
   "source": [
    "### Exploratory Data Analysis Visualization <a name=\"edav\"/>"
   ]
  },
  {
   "cell_type": "markdown",
   "id": "9d0d4637-57b3-4bed-bb66-77e8b897a1a0",
   "metadata": {},
   "source": [
    "### Data Analysis <a name=\"da\"/>"
   ]
  },
  {
   "cell_type": "markdown",
   "id": "0f84f6f9-b698-4a75-9b41-3d30dd26401d",
   "metadata": {},
   "source": [
    "### Data Visualization <a name=\"dv\"/>"
   ]
  },
  {
   "cell_type": "markdown",
   "id": "5e01c18e-8070-4a3d-b969-83b8ec65b645",
   "metadata": {},
   "source": [
    "## Discussion <a name=\"d\"/>"
   ]
  },
  {
   "cell_type": "markdown",
   "id": "c8583390-adb1-4ecb-a320-5ef17374421b",
   "metadata": {},
   "source": [
    "## References <a name=\"r\"/>"
   ]
  }
 ],
 "metadata": {
  "kernelspec": {
   "display_name": "R",
   "language": "R",
   "name": "ir"
  },
  "language_info": {
   "codemirror_mode": "r",
   "file_extension": ".r",
   "mimetype": "text/x-r-source",
   "name": "R",
   "pygments_lexer": "r",
   "version": "4.3.1"
  }
 },
 "nbformat": 4,
 "nbformat_minor": 5
}
