{
 "cells": [
  {
   "cell_type": "markdown",
   "id": "211a3009-6030-49d5-847e-1df1a49bb42d",
   "metadata": {},
   "source": [
    "# GROUP PROJECT PROPOSAL"
   ]
  },
  {
   "cell_type": "markdown",
   "id": "a4a028c0-b5cf-42fe-9a8f-1c098553b4e0",
   "metadata": {},
   "source": [
    "## Introduction:\n",
    "**Provide some relevant background information on the topic so that someone unfamiliar with it will be prepared to understand the rest of your proposal**\n",
    "\n",
    "  Classification is the process in which data is grouped into categories based on their properties. Then when presented with new data, we can use the old data to accurately predict the class of the new data. In this proposal we will state the dataset we are going to perform classification on and demonstrate preliminary data analysis while providing context as to how the process will be done and what we are expecting to find. etc.\n",
    "\n",
    "**Clearly state the question you will try to answer with your project**\n",
    "\n",
    "  Is there a correlation between the rank, height, age, and the hand of which a player plays? (i.e. we classify if a player is left or right handed based on the three predictors)\n",
    "\t\n",
    " **Identify and describe the dataset that will be used to answer the question**\n",
    "\n",
    "The dataset we will be using is Player Stats for Top 500 Players. \n"
   ]
  },
  {
   "cell_type": "code",
   "execution_count": 15,
   "id": "f78fc497-d127-4f56-8d09-7c078ff86e74",
   "metadata": {},
   "outputs": [
    {
     "name": "stderr",
     "output_type": "stream",
     "text": [
      "Warning message in file(filename, \"r\", encoding = encoding):\n",
      "“cannot open file 'tests.R': No such file or directory”\n"
     ]
    },
    {
     "ename": "ERROR",
     "evalue": "Error in file(filename, \"r\", encoding = encoding): cannot open the connection\n",
     "output_type": "error",
     "traceback": [
      "Error in file(filename, \"r\", encoding = encoding): cannot open the connection\nTraceback:\n",
      "1. source(\"tests.R\")",
      "2. file(filename, \"r\", encoding = encoding)"
     ]
    }
   ],
   "source": [
    "library(tidyverse)\n",
    "library(repr)\n",
    "library(tidymodels)\n",
    "options(repr.matrix.max.rows = 6)\n",
    "source('tests.R')\n",
    "source('cleanup.R')"
   ]
  },
  {
   "cell_type": "code",
   "execution_count": 47,
   "id": "653e1b57-3704-4b84-922f-9f9cb46cfe27",
   "metadata": {},
   "outputs": [
    {
     "name": "stderr",
     "output_type": "stream",
     "text": [
      "\u001b[1m\u001b[22mNew names:\n",
      "\u001b[36m•\u001b[39m `` -> `...1`\n",
      "\u001b[1mRows: \u001b[22m\u001b[34m500\u001b[39m \u001b[1mColumns: \u001b[22m\u001b[34m38\u001b[39m\n",
      "\u001b[36m──\u001b[39m \u001b[1mColumn specification\u001b[22m \u001b[36m────────────────────────────────────────────────────────\u001b[39m\n",
      "\u001b[1mDelimiter:\u001b[22m \",\"\n",
      "\u001b[31mchr\u001b[39m (25): Age, Country, Plays, Wikipedia, Current Rank, Best Rank, Name, Bac...\n",
      "\u001b[32mdbl\u001b[39m (13): ...1, Turned Pro, Seasons, Titles, Best Season, Retired, Masters, ...\n",
      "\n",
      "\u001b[36mℹ\u001b[39m Use `spec()` to retrieve the full column specification for this data.\n",
      "\u001b[36mℹ\u001b[39m Specify the column types or set `show_col_types = FALSE` to quiet this message.\n"
     ]
    },
    {
     "data": {
      "text/html": [
       "<table class=\"dataframe\">\n",
       "<caption>A tibble: 115 × 6</caption>\n",
       "<thead>\n",
       "\t<tr><th scope=col>age</th><th scope=col>handedness</th><th scope=col>curr_rank</th><th scope=col>best_rank</th><th scope=col>backhand_grip</th><th scope=col>height</th></tr>\n",
       "\t<tr><th scope=col>&lt;dbl&gt;</th><th scope=col>&lt;fct&gt;</th><th scope=col>&lt;dbl&gt;</th><th scope=col>&lt;dbl&gt;</th><th scope=col>&lt;fct&gt;</th><th scope=col>&lt;dbl&gt;</th></tr>\n",
       "</thead>\n",
       "<tbody>\n",
       "\t<tr><td>32</td><td>Right-handed</td><td>178</td><td>44</td><td>Two-handed</td><td>185</td></tr>\n",
       "\t<tr><td>27</td><td>Right-handed</td><td>183</td><td>17</td><td>Two-handed</td><td>193</td></tr>\n",
       "\t<tr><td>31</td><td>Right-handed</td><td>121</td><td> 3</td><td>Two-handed</td><td>198</td></tr>\n",
       "\t<tr><td>⋮</td><td>⋮</td><td>⋮</td><td>⋮</td><td>⋮</td><td>⋮</td></tr>\n",
       "\t<tr><td>29</td><td>Right-handed</td><td> 35</td><td>3</td><td>Two-handed</td><td>196</td></tr>\n",
       "\t<tr><td>34</td><td>Right-handed</td><td>179</td><td>8</td><td>Two-handed</td><td>183</td></tr>\n",
       "\t<tr><td>26</td><td>Right-handed</td><td>  5</td><td>4</td><td>One-handed</td><td>185</td></tr>\n",
       "</tbody>\n",
       "</table>\n"
      ],
      "text/latex": [
       "A tibble: 115 × 6\n",
       "\\begin{tabular}{llllll}\n",
       " age & handedness & curr\\_rank & best\\_rank & backhand\\_grip & height\\\\\n",
       " <dbl> & <fct> & <dbl> & <dbl> & <fct> & <dbl>\\\\\n",
       "\\hline\n",
       "\t 32 & Right-handed & 178 & 44 & Two-handed & 185\\\\\n",
       "\t 27 & Right-handed & 183 & 17 & Two-handed & 193\\\\\n",
       "\t 31 & Right-handed & 121 &  3 & Two-handed & 198\\\\\n",
       "\t ⋮ & ⋮ & ⋮ & ⋮ & ⋮ & ⋮\\\\\n",
       "\t 29 & Right-handed &  35 & 3 & Two-handed & 196\\\\\n",
       "\t 34 & Right-handed & 179 & 8 & Two-handed & 183\\\\\n",
       "\t 26 & Right-handed &   5 & 4 & One-handed & 185\\\\\n",
       "\\end{tabular}\n"
      ],
      "text/markdown": [
       "\n",
       "A tibble: 115 × 6\n",
       "\n",
       "| age &lt;dbl&gt; | handedness &lt;fct&gt; | curr_rank &lt;dbl&gt; | best_rank &lt;dbl&gt; | backhand_grip &lt;fct&gt; | height &lt;dbl&gt; |\n",
       "|---|---|---|---|---|---|\n",
       "| 32 | Right-handed | 178 | 44 | Two-handed | 185 |\n",
       "| 27 | Right-handed | 183 | 17 | Two-handed | 193 |\n",
       "| 31 | Right-handed | 121 |  3 | Two-handed | 198 |\n",
       "| ⋮ | ⋮ | ⋮ | ⋮ | ⋮ | ⋮ |\n",
       "| 29 | Right-handed |  35 | 3 | Two-handed | 196 |\n",
       "| 34 | Right-handed | 179 | 8 | Two-handed | 183 |\n",
       "| 26 | Right-handed |   5 | 4 | One-handed | 185 |\n",
       "\n"
      ],
      "text/plain": [
       "    age handedness   curr_rank best_rank backhand_grip height\n",
       "1   32  Right-handed 178       44        Two-handed    185   \n",
       "2   27  Right-handed 183       17        Two-handed    193   \n",
       "3   31  Right-handed 121        3        Two-handed    198   \n",
       "⋮   ⋮   ⋮            ⋮         ⋮         ⋮             ⋮     \n",
       "113 29  Right-handed  35       3         Two-handed    196   \n",
       "114 34  Right-handed 179       8         Two-handed    183   \n",
       "115 26  Right-handed   5       4         One-handed    185   "
      ]
     },
     "metadata": {},
     "output_type": "display_data"
    }
   ],
   "source": [
    "url = \"https://drive.google.com/uc?export=download&id=1_MECmUXZuuILYeEOfonSGqodW6qVdhsS\"\n",
    "download.file(url, \"player_data.csv\")\n",
    "\n",
    "# player data with only the columns we want\n",
    "player_data <- read_csv(\"player_data.csv\")|> select(Age, Plays, `Current Rank`, `Best Rank`, Backhand, Height)\n",
    "colnames(player_data) <- c(\"age\", \"handedness\", \"curr_rank\", \"best_rank\", \"backhand_grip\", \"height\") \n",
    "\n",
    "# player data with all NA's removed and char fields converted to numerical and categorical fields converted to factors\n",
    "player_data_clean <- player_data |>\n",
    "    filter(!is.na(age), !is.na(\"handedness\"), !is.na(\"curr_rank\"), !is.na(\"best_rank\"), !is.na(backhand_grip), !is.na(height)) |>\n",
    "    mutate(age = as.numeric(sapply(strsplit(age,\" \"), getElement, 1)), \n",
    "           curr_rank = as.numeric(sapply(strsplit(curr_rank,\" \"), getElement, 1)), \n",
    "           best_rank = as.numeric(sapply(strsplit(best_rank,\" \"), getElement, 1)),\n",
    "           height = as.numeric(sapply(strsplit(height,\" \"), getElement, 1)),\n",
    "           backhand_grip = as_factor(backhand_grip),\n",
    "           handedness = as_factor(handedness)\n",
    "          )\n",
    "\n",
    "player_data_clean"
   ]
  },
  {
   "cell_type": "code",
   "execution_count": null,
   "id": "8ab388b2-7b64-4d95-bb20-5e05ad3c2b6c",
   "metadata": {},
   "outputs": [],
   "source": []
  },
  {
   "cell_type": "code",
   "execution_count": null,
   "id": "e58281b6-4fd2-4a3e-9ce5-d1d5b2266cf8",
   "metadata": {},
   "outputs": [],
   "source": []
  }
 ],
 "metadata": {
  "kernelspec": {
   "display_name": "R",
   "language": "R",
   "name": "ir"
  },
  "language_info": {
   "codemirror_mode": "r",
   "file_extension": ".r",
   "mimetype": "text/x-r-source",
   "name": "R",
   "pygments_lexer": "r",
   "version": "4.3.1"
  }
 },
 "nbformat": 4,
 "nbformat_minor": 5
}
