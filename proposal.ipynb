{
 "cells": [
  {
   "cell_type": "markdown",
   "id": "211a3009-6030-49d5-847e-1df1a49bb42d",
   "metadata": {},
   "source": [
    "# GROUP PROJECT PROPOSAL"
   ]
  },
  {
   "cell_type": "markdown",
   "id": "a4a028c0-b5cf-42fe-9a8f-1c098553b4e0",
   "metadata": {},
   "source": [
    "## Introduction:\n",
    "**Provide some relevant background information on the topic so that someone unfamiliar with it will be prepared to understand the rest of your proposal**\n",
    "\n",
    "  Classification is the process in which data is grouped into categories based on their properties. Then when presented with new data, we can use the old data to accurately predict the class of the new data. In this proposal we will state the dataset we are going to perform classification on and demonstrate preliminary data analysis while providing context as to how the process will be done and what we are expecting to find. etc.\n",
    "\n",
    "**Clearly state the question you will try to answer with your project**\n",
    "\n",
    "  Is there a correlation between the rank, height, age, and the hand of which a player plays? (i.e. we classify if a player is left or right handed based on the three predictors)\n",
    "\t\n",
    " **Identify and describe the dataset that will be used to answer the question**\n",
    "\n",
    "The dataset we will be using is Player Stats for Top 500 Players. \n"
   ]
  },
  {
   "cell_type": "markdown",
   "id": "9f8278e6-9244-4b36-b442-c17775f03fef",
   "metadata": {},
   "source": []
  },
  {
   "cell_type": "code",
   "execution_count": null,
   "id": "8ab388b2-7b64-4d95-bb20-5e05ad3c2b6c",
   "metadata": {},
   "outputs": [],
   "source": []
  }
 ],
 "metadata": {
  "kernelspec": {
   "display_name": "R",
   "language": "R",
   "name": "ir"
  },
  "language_info": {
   "codemirror_mode": "r",
   "file_extension": ".r",
   "mimetype": "text/x-r-source",
   "name": "R",
   "pygments_lexer": "r",
   "version": "4.3.1"
  }
 },
 "nbformat": 4,
 "nbformat_minor": 5
}
